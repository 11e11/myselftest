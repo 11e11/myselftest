{
 "cells": [
  {
   "cell_type": "code",
   "execution_count": 1,
   "id": "7b007482",
   "metadata": {},
   "outputs": [
    {
     "name": "stderr",
     "output_type": "stream",
     "text": [
      "/home/pxy/miniconda3/envs/tangram-env/lib/python3.8/site-packages/scipy/__init__.py:146: UserWarning: A NumPy version >=1.16.5 and <1.23.0 is required for this version of SciPy (detected version 1.24.4\n",
      "  warnings.warn(f\"A NumPy version >={np_minversion} and <{np_maxversion}\"\n"
     ]
    }
   ],
   "source": [
    "import scanpy as sc"
   ]
  },
  {
   "cell_type": "code",
   "execution_count": 2,
   "id": "fdd635ba",
   "metadata": {},
   "outputs": [
    {
     "name": "stdout",
     "output_type": "stream",
     "text": [
      "AnnData object with n_obs × n_vars = 14989 × 1888\n",
      "    obs: 'n_genes', 'cell_types', 'batch', 'n_genes_by_counts', 'total_counts', 'total_counts_mt', 'pct_counts_mt', 'pred_cell_types', 'doublet_scores', 'doublet_predictions', 'MS', 'louvain_r0.5', 'louvain_r0.7', 'louvain_r1.0', 'leiden_r0.5', 'leiden_r0.7', 'leiden_r1.0', 'DC_A', 'DC_B', 'mono_1', 'mono_2', 'louvain_sub_0.1', 'louvain_sub_0.2', 'louvain_sub_0.3', 'louvain_sub', 'louvain_sub_1', 'louvain_sub_2', 'louvain_sub_3', 'SCANVI_pred_cell_types', 'SCVI_pred_cell_types', 'broad_cell_types'\n",
      "    var: 'gene_ids-0', 'genome-0', 'n_cells', 'mt', 'n_cells_by_counts', 'mean_counts', 'pct_dropout_by_counts', 'total_counts', 'highly_variable', 'n_counts', 'highly_variable_rank', 'means', 'variances', 'variances_norm'\n",
      "    uns: 'batch_colors', 'hvg', 'leiden', 'leiden_r1.0_colors', 'log1p', 'louvain', 'louvain_r0.5_colors', 'louvain_r0.7_colors', 'louvain_r1.0_colors', 'louvain_sub_0.2_colors', 'louvain_sub_0.3_colors', 'louvain_sub_1_colors', 'neighbors', 'pred_cell_types_colors', 'umap'\n",
      "    obsm: 'X_scVI', 'X_umap'\n",
      "    layers: 'counts'\n",
      "    obsp: 'connectivities', 'distances'\n"
     ]
    }
   ],
   "source": [
    "# Load the single-cell and spatial transcriptomics data\n",
    "sc_data = sc.read_h5ad('../../../scvi-tools-DestVI/data/sc_lymph_node_preprocessed.h5ad')\n",
    "st_data = sc.read_h5ad('../../../scvi-tools-DestVI/data/st_lymph_node_preprocessed.h5ad')\n",
    "\n",
    "print(sc_data)"
   ]
  },
  {
   "cell_type": "code",
   "execution_count": 3,
   "id": "7803e328",
   "metadata": {},
   "outputs": [],
   "source": [
    "import scanpy as sc\n",
    "import numpy as np\n",
    "\n",
    "# sc.pp.normalize_total(sc_data, target_sum=1e4)\n",
    "# sc.pp.log1p(sc_data)  # 可选，对数归一化\n",
    "\n",
    "X = sc_data.X\n",
    "if not isinstance(X, np.ndarray):\n",
    "    X = X.toarray()\n",
    "# Min-Max归一化到0-1|\n",
    "X = (X - X.min()) / (X.max() - X.min())"
   ]
  },
  {
   "cell_type": "code",
   "execution_count": 4,
   "id": "2c078ae4",
   "metadata": {},
   "outputs": [],
   "source": [
    "# sc_data.obs['cell_types'].unique"
   ]
  },
  {
   "cell_type": "code",
   "execution_count": null,
   "id": "37d727a3",
   "metadata": {},
   "outputs": [
    {
     "name": "stdout",
     "output_type": "stream",
     "text": [
      "epoch 0, loss 4717.75048828125\n",
      "epoch 1, loss 4235.58740234375\n",
      "epoch 2, loss 4027.042724609375\n",
      "epoch 3, loss 4533.4560546875\n",
      "epoch 4, loss 4492.40576171875\n",
      "epoch 5, loss 3857.777587890625\n",
      "epoch 6, loss 3884.084716796875\n",
      "epoch 7, loss 3879.18505859375\n",
      "epoch 8, loss 4586.4140625\n",
      "epoch 9, loss 3762.984130859375\n",
      "epoch 10, loss 4056.07275390625\n",
      "epoch 11, loss 4031.45166015625\n",
      "epoch 12, loss 3786.229736328125\n",
      "epoch 13, loss 4058.63720703125\n",
      "epoch 14, loss 3989.249267578125\n",
      "epoch 15, loss 4102.36328125\n",
      "epoch 16, loss 3780.335693359375\n",
      "epoch 17, loss 5013.81982421875\n",
      "epoch 18, loss 3890.435546875\n",
      "epoch 19, loss 4228.0419921875\n",
      "epoch 20, loss 3782.214599609375\n",
      "epoch 21, loss 3725.918212890625\n",
      "epoch 22, loss 3864.86083984375\n",
      "epoch 23, loss 3812.39794921875\n",
      "epoch 24, loss 3808.947021484375\n",
      "epoch 25, loss 4134.3388671875\n",
      "epoch 26, loss 4204.74072265625\n",
      "epoch 27, loss 3802.994873046875\n",
      "epoch 28, loss 3772.408447265625\n",
      "epoch 29, loss 3784.59814453125\n",
      "epoch 30, loss 3902.76220703125\n",
      "epoch 31, loss 4313.38671875\n",
      "epoch 32, loss 3568.781982421875\n",
      "epoch 33, loss 3831.128662109375\n",
      "epoch 34, loss 4376.9091796875\n",
      "epoch 35, loss 3955.891357421875\n",
      "epoch 36, loss 3670.443603515625\n",
      "epoch 37, loss 3707.115234375\n",
      "epoch 38, loss 3811.518310546875\n",
      "epoch 39, loss 3653.386962890625\n",
      "epoch 40, loss 3395.742919921875\n",
      "epoch 41, loss 4030.562744140625\n",
      "epoch 42, loss 4084.199951171875\n",
      "epoch 43, loss 3961.37353515625\n",
      "epoch 44, loss 3793.401611328125\n",
      "epoch 45, loss 4461.638671875\n",
      "epoch 46, loss 4345.69140625\n",
      "epoch 47, loss 4124.66748046875\n",
      "epoch 48, loss 3792.294677734375\n",
      "epoch 49, loss 4164.77783203125\n",
      "epoch 50, loss 3671.858642578125\n",
      "epoch 51, loss 4337.86181640625\n",
      "epoch 52, loss 4503.06640625\n",
      "epoch 53, loss 4298.759765625\n",
      "epoch 54, loss 4032.45849609375\n",
      "epoch 55, loss 4296.6357421875\n",
      "epoch 56, loss 3823.20263671875\n",
      "epoch 57, loss 3721.239013671875\n",
      "epoch 58, loss 3614.69873046875\n",
      "epoch 59, loss 4173.53466796875\n",
      "epoch 60, loss 3897.430908203125\n",
      "epoch 61, loss 3956.036865234375\n",
      "epoch 62, loss 3725.935546875\n",
      "epoch 63, loss 3753.9580078125\n",
      "epoch 64, loss 3766.975341796875\n",
      "epoch 65, loss 3749.165283203125\n",
      "epoch 66, loss 3755.10302734375\n",
      "epoch 67, loss 3785.04736328125\n",
      "epoch 68, loss 4029.576904296875\n",
      "epoch 69, loss 3682.833984375\n",
      "epoch 70, loss 4595.0703125\n",
      "epoch 71, loss 4139.27587890625\n",
      "epoch 72, loss 3805.81103515625\n",
      "epoch 73, loss 3829.214599609375\n",
      "epoch 74, loss 3739.88623046875\n",
      "epoch 75, loss 4226.04931640625\n",
      "epoch 76, loss 3610.951416015625\n",
      "epoch 77, loss 4125.78857421875\n",
      "epoch 78, loss 4400.4306640625\n",
      "epoch 79, loss 3655.024658203125\n",
      "epoch 80, loss 3651.619384765625\n",
      "epoch 81, loss 3897.3896484375\n",
      "epoch 82, loss 3586.216796875\n",
      "epoch 83, loss 4010.893310546875\n",
      "epoch 84, loss 3868.1318359375\n",
      "epoch 85, loss 3764.624267578125\n",
      "epoch 86, loss 4031.05078125\n",
      "epoch 87, loss 3604.319091796875\n",
      "epoch 88, loss 3884.406005859375\n",
      "epoch 89, loss 3821.6689453125\n",
      "epoch 90, loss 3738.7158203125\n",
      "epoch 91, loss 3593.627685546875\n",
      "epoch 92, loss 4155.6083984375\n",
      "epoch 93, loss 3810.473388671875\n",
      "epoch 94, loss 3653.052978515625\n",
      "epoch 95, loss 4119.1474609375\n",
      "epoch 96, loss 3634.0830078125\n",
      "epoch 97, loss 4035.89208984375\n",
      "epoch 98, loss 3801.121826171875\n",
      "epoch 99, loss 3951.7734375\n"
     ]
    }
   ],
   "source": [
    "from models.vae import VAE\n",
    "import torch\n",
    "from torch.utils.data import DataLoader, TensorDataset\n",
    "\n",
    "# X 是单细胞表达矩阵，已归一化\n",
    "X_tensor = torch.tensor(X, dtype=torch.float32)\n",
    "\n",
    "# 假设 X_tensor 是 shape [num_cells, num_genes] 的表达矩阵\n",
    "dataset = TensorDataset(X_tensor)\n",
    "data_loader = DataLoader(dataset, batch_size=128, shuffle=True)\n",
    "\n",
    "vae = VAE(input_dim=X_tensor.shape[1], hidden_dim=128, latent_dim=15)\n",
    "optimizer = torch.optim.Adam(vae.parameters(), lr=1e-3)\n",
    "vae.train_model(data_loader, optimizer, num_epochs=50)  # 切换到训练模式\n",
    "\n",
    "# 前向传播\n",
    "recon_x, mean, log_var = vae(X_tensor)"
   ]
  },
  {
   "cell_type": "markdown",
   "id": "6e25f284",
   "metadata": {},
   "source": [
    "这行代码的含义如下：\n",
    "\n",
    "- `recon_x`：VAE 重构后的表达矩阵（即用潜在变量还原出来的输入），形状和输入一样。\n",
    "- `mean`：每个细胞在潜在空间的均值向量（编码器输出）。\n",
    "- `log_var`：每个细胞在潜在空间的对数方差向量（编码器输出）。\n",
    "\n",
    "**总结：**  \n",
    "- `recon_x` 用于衡量重构效果（和原始输入对比）。\n",
    "- `mean` 和 `log_var` 是潜在空间的参数，可用于后续特征提取或下游分析。"
   ]
  },
  {
   "cell_type": "code",
   "execution_count": 11,
   "id": "c7dd93c3",
   "metadata": {},
   "outputs": [],
   "source": [
    "import pandas as pd\n",
    "cell_types = sc_data.obs['cell_types'].values  # 获取每个细胞的类型标签\n",
    "mean_np = mean.detach().cpu().numpy()         # 转为 numpy\n",
    "\n",
    "# 按细胞类型聚合\n",
    "df = pd.DataFrame(mean_np)\n",
    "df['cell_types'] = cell_types\n",
    "type_latent = df.groupby('cell_types').mean().values  # shape: [num_types, latent_dim]"
   ]
  },
  {
   "cell_type": "code",
   "execution_count": 7,
   "id": "7c7b710d",
   "metadata": {},
   "outputs": [
    {
     "name": "stdout",
     "output_type": "stream",
     "text": [
      "AnnData object with n_obs × n_vars = 1092 × 1888\n",
      "    obs: 'in_tissue', 'array_row', 'array_col', 'batch', 'LN', 'n_genes_by_counts', 'log1p_n_genes_by_counts', 'total_counts', 'log1p_total_counts', 'pct_counts_in_top_50_genes', 'pct_counts_in_top_100_genes', 'pct_counts_in_top_200_genes', 'pct_counts_in_top_500_genes', 'total_counts_mt', 'log1p_total_counts_mt', 'pct_counts_mt', 'n_counts', 'leiden', 'lymph_node'\n",
      "    var: 'gene_ids', 'feature_types', 'genome', 'mt', 'n_cells_by_counts', 'mean_counts', 'log1p_mean_counts', 'pct_dropout_by_counts', 'total_counts', 'log1p_total_counts', 'n_cells'\n",
      "    uns: 'LN_colors', 'log1p'\n",
      "    obsm: 'X_pca', 'X_umap', 'location', 'modules', 'spatial'\n",
      "    layers: 'counts'\n"
     ]
    }
   ],
   "source": [
    "print(st_data)"
   ]
  },
  {
   "cell_type": "code",
   "execution_count": 12,
   "id": "75d90c44",
   "metadata": {},
   "outputs": [
    {
     "name": "stdout",
     "output_type": "stream",
     "text": [
      "(1092, 1092)\n"
     ]
    }
   ],
   "source": [
    "# 2. 处理 ST 数据\n",
    "st_X = st_data.X\n",
    "if not isinstance(st_X, np.ndarray):\n",
    "    st_X = st_X.toarray()\n",
    "st_X = (st_X - st_X.min()) / (st_X.max() - st_X.min())\n",
    "st_tensor = torch.tensor(st_X, dtype=torch.float32)\n",
    "\n",
    "# 3. 构建邻接矩阵（假设已获得 adjacency_matrix）\n",
    "import squidpy as sq\n",
    "\n",
    "# 构建空间邻接矩阵，n_neigh 可根据实际情况调整\n",
    "sq.gr.spatial_neighbors(st_data, coord_type=\"generic\", n_neighs=6, spatial_key=\"spatial\")\n",
    "\n",
    "# 邻接矩阵存储在 obsp['spatial_connectivities']\n",
    "adjacency_matrix = st_data.obsp['spatial_connectivities'].toarray()\n",
    "adj_tensor = torch.tensor(adjacency_matrix, dtype=torch.float32)\n",
    "print(adjacency_matrix.shape)\n",
    "\n",
    "# 4. 初始化并运行 GCN\n",
    "from models.gcn import GCN\n",
    "gcn = GCN(input_dim=st_tensor.shape[1], hidden_dim=64, output_dim=type_latent.shape[1])\n",
    "gcn.eval()\n",
    "with torch.no_grad():\n",
    "    deconv_result = gcn(st_tensor, adj_tensor)\n",
    "\n",
    "# 5. deconv_result 即为每个空间点的细胞类型组成或概率"
   ]
  },
  {
   "cell_type": "code",
   "execution_count": 9,
   "id": "1a4bf9e8",
   "metadata": {},
   "outputs": [
    {
     "data": {
      "text/plain": [
       "torch.Size([1092, 15])"
      ]
     },
     "execution_count": 9,
     "metadata": {},
     "output_type": "execute_result"
    }
   ],
   "source": [
    "deconv_result.shape"
   ]
  },
  {
   "cell_type": "code",
   "execution_count": 10,
   "id": "d7c84bbe",
   "metadata": {},
   "outputs": [
    {
     "data": {
      "text/plain": [
       "tensor([[0.0877, 0.0718, 0.0321, 0.0530, 0.0558, 0.0439, 0.0599, 0.0564, 0.0602,\n",
       "         0.1136, 0.0587, 0.0918, 0.0687, 0.0307, 0.1156],\n",
       "        [0.1150, 0.0725, 0.0332, 0.0523, 0.0474, 0.0367, 0.0631, 0.0444, 0.0634,\n",
       "         0.1116, 0.0534, 0.1017, 0.0551, 0.0321, 0.1179],\n",
       "        [0.1020, 0.0650, 0.0404, 0.0517, 0.0529, 0.0424, 0.0643, 0.0526, 0.0626,\n",
       "         0.1145, 0.0582, 0.1034, 0.0548, 0.0354, 0.0998],\n",
       "        [0.1061, 0.0682, 0.0411, 0.0567, 0.0498, 0.0411, 0.0709, 0.0496, 0.0664,\n",
       "         0.1093, 0.0576, 0.0946, 0.0497, 0.0471, 0.0915],\n",
       "        [0.1008, 0.0643, 0.0431, 0.0566, 0.0557, 0.0449, 0.0655, 0.0546, 0.0623,\n",
       "         0.1017, 0.0571, 0.0937, 0.0578, 0.0404, 0.1015]])"
      ]
     },
     "execution_count": 10,
     "metadata": {},
     "output_type": "execute_result"
    }
   ],
   "source": [
    "deconv_result[:5]"
   ]
  },
  {
   "cell_type": "code",
   "execution_count": null,
   "id": "fd263750",
   "metadata": {},
   "outputs": [],
   "source": []
  }
 ],
 "metadata": {
  "kernelspec": {
   "display_name": "tangram-env",
   "language": "python",
   "name": "python3"
  },
  "language_info": {
   "codemirror_mode": {
    "name": "ipython",
    "version": 3
   },
   "file_extension": ".py",
   "mimetype": "text/x-python",
   "name": "python",
   "nbconvert_exporter": "python",
   "pygments_lexer": "ipython3",
   "version": "3.8.20"
  }
 },
 "nbformat": 4,
 "nbformat_minor": 5
}
