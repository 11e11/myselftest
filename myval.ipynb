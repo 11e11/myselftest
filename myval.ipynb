{
 "cells": [
  {
   "cell_type": "code",
   "execution_count": 1,
   "id": "f86b9668",
   "metadata": {},
   "outputs": [
    {
     "name": "stderr",
     "output_type": "stream",
     "text": [
      "/home/pxy/miniconda3/envs/tangram-env/lib/python3.8/site-packages/scipy/__init__.py:146: UserWarning: A NumPy version >=1.16.5 and <1.23.0 is required for this version of SciPy (detected version 1.24.4\n",
      "  warnings.warn(f\"A NumPy version >={np_minversion} and <{np_maxversion}\"\n"
     ]
    }
   ],
   "source": [
    "import scanpy as sc\n",
    "import torch\n",
    "import torch.nn.functional as F\n",
    "from torch.utils.data import DataLoader, TensorDataset\n",
    "from torch_geometric.data import Data\n",
    "import numpy as np\n",
    "from sklearn.metrics import r2_score\n",
    "import matplotlib.pyplot as plt\n",
    "\n",
    "import sys, pathlib\n",
    "repo_root = pathlib.Path('./st-celltype-deconvolution/src/models').resolve()\n",
    "sys.path.insert(0, str(repo_root))\n",
    "\n",
    "from vae_sc import VAE, vae_loss, compute_uncertainty\n",
    "from uncertainty_gcn import UncertaintyGCN, compute_loss"
   ]
  },
  {
   "cell_type": "code",
   "execution_count": 2,
   "id": "60f6c84a",
   "metadata": {},
   "outputs": [],
   "source": [
    "# ================== 1. 读取数据 ==================\n",
    "scRNA = sc.read_h5ad(\"../scvi-tools-DestVI/data/sc_lymph_node_preprocessed.h5ad\")\n",
    "ST_train = sc.read_h5ad(\"./sim_pseudospots_split/train.h5ad\")\n",
    "ST_val   = sc.read_h5ad(\"./sim_pseudospots_split/val.h5ad\")\n",
    "ST_test  = sc.read_h5ad(\"./sim_pseudospots_split/test.h5ad\")\n",
    "\n",
    "genes = scRNA.var_names.intersection(ST_train.var_names)\n",
    "scRNA = scRNA[:, genes]\n",
    "ST_train = ST_train[:, genes]\n",
    "ST_val   = ST_val[:, genes]\n",
    "ST_test  = ST_test[:, genes]\n",
    "\n",
    "celltypes = scRNA.obs[\"cell_types\"].astype(\"category\").cat.categories.tolist()"
   ]
  },
  {
   "cell_type": "code",
   "execution_count": 3,
   "id": "0d95210f",
   "metadata": {},
   "outputs": [
    {
     "name": "stdout",
     "output_type": "stream",
     "text": [
      "scRNA shape: (14989, 1888)\n",
      "min/max/median/mean: 0.0 11.301362 0.0 0.7311078\n",
      "per-cell total: mean,median: 1380.3312 1298.3159\n",
      "sparsity: 0.8524238042926394\n",
      "ST_train shape: (489, 1888)\n",
      "min/max/median/mean: 0 194 0.0 4.0856989359121005\n",
      "per-cell total: mean,median: 7713.799591002045 7424.0\n",
      "sparsity: 0.6452430158400055\n"
     ]
    }
   ],
   "source": [
    "# python\n",
    "def inspect_expr(X, name=\"X\"):\n",
    "    import numpy as np\n",
    "    X_np = X.A if hasattr(X, \"A\") else np.asarray(X)\n",
    "    print(name, \"shape:\", X_np.shape)\n",
    "    print(\"min/max/median/mean:\", X_np.min(), X_np.max(), np.median(X_np), X_np.mean())\n",
    "    print(\"per-cell total: mean,median:\", X_np.sum(axis=1).mean(), np.median(X_np.sum(axis=1)))\n",
    "    print(\"sparsity:\", 1.0 - (X_np!=0).sum()/X_np.size)\n",
    "\n",
    "inspect_expr(scRNA.X, \"scRNA\")\n",
    "inspect_expr(ST_train.X, \"ST_train\")\n",
    "# inspect_expr(st_subset.X, \"st_subset\")"
   ]
  },
  {
   "cell_type": "code",
   "execution_count": null,
   "id": "5941637e",
   "metadata": {},
   "outputs": [],
   "source": [
    "# # python\n",
    "# def preprocess_log1p_cpm(adata):\n",
    "#     X = adata.X.A if hasattr(adata.X, \"A\") else np.asarray(adata.X)\n",
    "#     libsize = X.sum(axis=1, keepdims=True) + 1e-6\n",
    "#     X_cpm = X / libsize * 1e6\n",
    "#     X_log = np.log1p(X_cpm)\n",
    "#     return X_log\n",
    "\n",
    "# X_sc_log = preprocess_log1p_cpm(scRNA)\n",
    "# X_st_log = preprocess_log1p_cpm(ST_train)\n",
    "# # 确认 shape 和基因顺序一致\n",
    "# assert X_sc_log.shape[1] == X_st_log.shape[1]"
   ]
  },
  {
   "cell_type": "code",
   "execution_count": null,
   "id": "507b1896",
   "metadata": {},
   "outputs": [
    {
     "name": "stdout",
     "output_type": "stream",
     "text": [
      "VAE Epoch 10/50, loss=200.96, recon=191.07, kl=9.90\n",
      "VAE Epoch 20/50, loss=198.31, recon=188.09, kl=10.22\n",
      "VAE Epoch 30/50, loss=197.59, recon=187.32, kl=10.27\n",
      "VAE Epoch 40/50, loss=196.85, recon=186.09, kl=10.75\n",
      "VAE Epoch 50/50, loss=196.45, recon=185.58, kl=10.87\n"
     ]
    }
   ],
   "source": [
    "# # ================== 2. 训练 VAE ==================\n",
    "# X_sc = scRNA.X.A if hasattr(scRNA.X, \"A\") else scRNA.X\n",
    "# X_sc = torch.tensor(X_sc, dtype=torch.float32)\n",
    "# labels = scRNA.obs[\"cell_types\"].astype(\"category\").cat.codes.values\n",
    "# labels = torch.tensor(labels, dtype=torch.long)\n",
    "\n",
    "# dataset = TensorDataset(X_sc, labels)\n",
    "# dataloader = DataLoader(dataset, batch_size=128, shuffle=True)\n",
    "\n",
    "# vae = VAE(input_dim=X_sc.shape[1], hidden_dim=128, latent_dim=16)\n",
    "# opt = torch.optim.Adam(vae.parameters(), lr=1e-3)\n",
    "\n",
    "# epochs = 50\n",
    "# for epoch in range(epochs):\n",
    "#     vae.train()\n",
    "#     total_loss, total_recon, total_kl = 0, 0, 0\n",
    "#     for x_batch, _ in dataloader:\n",
    "#         opt.zero_grad()\n",
    "#         x_hat, mu, logvar = vae(x_batch)\n",
    "#         loss, recon, kl = vae_loss(x_batch, x_hat, mu, logvar)\n",
    "#         loss.backward()\n",
    "#         opt.step()\n",
    "#         total_loss += loss.item()\n",
    "#         total_recon += recon.item()\n",
    "#         total_kl += kl.item()\n",
    "#     if (epoch+1) % 10 == 0:\n",
    "#         print(f\"VAE Epoch {epoch+1}/{epochs}, loss={total_loss:.2f}, recon={total_recon:.2f}, kl={total_kl:.2f}\")"
   ]
  },
  {
   "cell_type": "code",
   "execution_count": 3,
   "id": "bc086367",
   "metadata": {},
   "outputs": [
    {
     "name": "stdout",
     "output_type": "stream",
     "text": [
      "VAE Epoch 10/50, loss_avg=1.4189, recon_avg=1.4142, kl_avg=4.6369\n",
      "VAE Epoch 20/50, loss_avg=1.3986, recon_avg=1.3944, kl_avg=4.1941\n",
      "VAE Epoch 30/50, loss_avg=1.3916, recon_avg=1.3876, kl_avg=4.0141\n",
      "VAE Epoch 40/50, loss_avg=1.3867, recon_avg=1.3828, kl_avg=3.9360\n",
      "VAE Epoch 50/50, loss_avg=1.3839, recon_avg=1.3800, kl_avg=3.8767\n"
     ]
    },
    {
     "data": {
      "image/png": "[encoded data removed]",
      "text/plain": [
       "<Figure size 600x300 with 1 Axes>"
      ]
     },
     "metadata": {},
     "output_type": "display_data"
    },
    {
     "name": "stdout",
     "output_type": "stream",
     "text": [
      "type_unc (first 10): [0.14922495 0.14381512 0.760142   0.         0.7462     0.06780732\n",
      " 1.         0.59715414 0.04690453 0.45797184]\n"
     ]
    }
   ],
   "source": [
    "device = torch.device(\"cuda\" if torch.cuda.is_available() else \"cpu\")\n",
    "\n",
    "X_sc = scRNA.X.A if hasattr(scRNA.X, \"A\") else scRNA.X\n",
    "X_sc = torch.tensor(X_sc, dtype=torch.float32)\n",
    "labels = scRNA.obs[\"cell_types\"].astype(\"category\").cat.codes.values\n",
    "labels = torch.tensor(labels, dtype=torch.long)\n",
    "\n",
    "dataset = TensorDataset(X_sc, labels)\n",
    "dataloader = DataLoader(dataset, batch_size=128, shuffle=True)\n",
    "\n",
    "vae = VAE(input_dim=X_sc.shape[1], hidden_dim=128, latent_dim=16).to(device)\n",
    "opt = torch.optim.Adam(vae.parameters(), lr=1e-3)\n",
    "\n",
    "epochs = 50\n",
    "n_batches = len(dataloader)\n",
    "recon_hist, kl_hist, loss_hist = [], [], []\n",
    "for epoch in range(1, epochs+1):\n",
    "    vae.train()\n",
    "    sum_loss = sum_recon = sum_kl = 0.0\n",
    "    for x_batch, _ in dataloader:\n",
    "        x_batch = x_batch.to(device)\n",
    "        opt.zero_grad()\n",
    "        x_hat, mu, logvar = vae(x_batch)                      # forward -> x_hat, mu, logvar\n",
    "        loss, recon, kl = vae_loss(x_batch, x_hat, mu, logvar, beta=1e-3)\n",
    "        loss.backward()\n",
    "        opt.step()\n",
    "        sum_loss += loss.item()\n",
    "        sum_recon += recon.item() if isinstance(recon, torch.Tensor) else float(recon)\n",
    "        sum_kl += kl.item() if isinstance(kl, torch.Tensor) else float(kl)\n",
    "\n",
    "    loss_avg = sum_loss / n_batches\n",
    "    recon_avg = sum_recon / n_batches\n",
    "    kl_avg = sum_kl / n_batches\n",
    "    loss_hist.append(loss_avg); recon_hist.append(recon_avg); kl_hist.append(kl_avg)\n",
    "\n",
    "    if epoch % 10 == 0:\n",
    "        print(f\"VAE Epoch {epoch}/{epochs}, loss_avg={loss_avg:.4f}, recon_avg={recon_avg:.4f}, kl_avg={kl_avg:.4f}\")\n",
    "\n",
    "# 绘图用于诊断\n",
    "plt.figure(figsize=(6,3))\n",
    "plt.plot(recon_hist, label=\"recon\"); plt.plot(kl_hist, label=\"kl\"); plt.plot(loss_hist, label=\"total\")\n",
    "plt.legend(); plt.xlabel(\"epoch\"); plt.show()\n",
    "\n",
    "# 训练后计算 type-level 不确定性（注意 compute_uncertainty 的 dataloader 要产出 (x, label)）\n",
    "n_types = len(celltypes)\n",
    "sc_loader_for_unc = DataLoader(dataset, batch_size=256, shuffle=False)\n",
    "# RE, KL, VAR, RE_c, KL_c, VAR_c = compute_uncertainty(vae, sc_loader_for_unc, device=device)\n",
    "RE, KL, VAR, RE_c, KL_c, VAR_c = compute_uncertainty(\n",
    "    vae, sc_loader_for_unc, device=device, n_types=n_types, fill_value=0.0\n",
    ")\n",
    "# 归一化选择一个 type_unc（例如 RE_c）\n",
    "type_unc = (RE_c - RE_c.min()) / (RE_c.max() - RE_c.min() + 1e-8)\n",
    "print(\"type_unc (first 10):\", type_unc[:10])"
   ]
  },
  {
   "cell_type": "markdown",
   "id": "62d91996",
   "metadata": {},
   "source": [
    "vae训练完毕"
   ]
  }
 ],
 "metadata": {
  "kernelspec": {
   "display_name": "tangram-env",
   "language": "python",
   "name": "python3"
  },
  "language_info": {
   "codemirror_mode": {
    "name": "ipython",
    "version": 3
   },
   "file_extension": ".py",
   "mimetype": "text/x-python",
   "name": "python",
   "nbconvert_exporter": "python",
   "pygments_lexer": "ipython3",
   "version": "3.8.20"
  }
 },
 "nbformat": 4,
 "nbformat_minor": 5
}
