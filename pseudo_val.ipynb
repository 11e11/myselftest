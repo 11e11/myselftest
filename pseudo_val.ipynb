{
 "cells": [
  {
   "cell_type": "code",
   "execution_count": 5,
   "id": "3a34456d",
   "metadata": {},
   "outputs": [],
   "source": [
    "import scanpy as sc\n",
    "\n",
    "Sc = sc.read_h5ad(\"./st-celltype-deconvolution/data/sc_osm.h5ad\")\n",
    "St = sc.read_h5ad(\"./st-celltype-deconvolution/data/st_osm.h5ad\")"
   ]
  },
  {
   "cell_type": "code",
   "execution_count": 10,
   "id": "5eaa2abd",
   "metadata": {},
   "outputs": [
    {
     "data": {
      "text/plain": [
       "array([[    0,     0,     0,     0,     4,   107,     2,     0,     0,\n",
       "            0,     0,    56,     0,    55,  2413,    34,     0,   104,\n",
       "            0,    13,     1,     0,     0,     0,     0,     0,     0,\n",
       "            0,     0,  4353,     0,  4809,     0],\n",
       "       [    0,     0,     0,   173,     2,     0,     0,     0,     0,\n",
       "          203,     0,   564,     0,     0,    31,     0,     0,    85,\n",
       "            0, 27158,    82,     0,     0,     0,   103,    15,     0,\n",
       "         1708,     1,     0,     0,  2591,     0],\n",
       "       [   84,     0,     0,     0,    21,     1,     0,     0,     0,\n",
       "          101,     0,     0,     0,     0,     1,     0,     0,     0,\n",
       "            0,     3,     0,     1,     0,     0,     0,     0,     0,\n",
       "            0,     0,     0,     0,     0,     0],\n",
       "       [  203,     0,     0,     0,    48,    28,     0,     0,  1280,\n",
       "           14,    27,   410,     0,     0,     0,     0,     1,     0,\n",
       "            0,     2,     0,     0,     0,     0,     0,     3,   282,\n",
       "            0,     0,     0,     0,     0,     0],\n",
       "       [    0,     0,     0,     0,     3,    57,     0,     0,     1,\n",
       "            0,     0,     0,     0,     0,   453,     0,     0,    90,\n",
       "            0,     6,     2,     1,     0,     0,     0,     0,     0,\n",
       "            0,     0,     1,     0,   768,     0]])"
      ]
     },
     "execution_count": 10,
     "metadata": {},
     "output_type": "execute_result"
    }
   ],
   "source": [
    "Sc.X[:5]"
   ]
  },
  {
   "cell_type": "code",
   "execution_count": 11,
   "id": "5de32edf",
   "metadata": {},
   "outputs": [
    {
     "data": {
      "text/plain": [
       "array([[ 50,  69,   6,  11,   3,   0,   0,  11,   3,   7,   1,   7,   2,\n",
       "         68,   1,   1,  21,   3,   3,   5,   3,   9,   5,   0,  10,  29,\n",
       "          2,   0,   2,   0,   7,  31,  25],\n",
       "       [ 19,  10,  29,  56,  81,  19,  33,  32,  13,  24,   8,  84,  53,\n",
       "         34,  14,  17,  34,   6,   6,   9,  19,  34,  20,  10,  15,  28,\n",
       "         31,  11,   8,  10,   9,  10,   8],\n",
       "       [  2,   0,   1,   6,   2,   1,   8,   1,   0,   1,   0,  13,   3,\n",
       "          0,   1,   1,   3,   0,   0,   1,   2,   6,   0,   0,   3,   3,\n",
       "          0,   0,   0,   0,   1,   1,   0],\n",
       "       [ 42,  35,  11, 137,   6,   0,   1,  23,   9,   2,   1,  14,   1,\n",
       "         88,  10,   2,  17,   3,   1,  10,  14,  75,   8,   4,   5,  10,\n",
       "          2,   0,   2,   0,   1,  17,   3],\n",
       "       [ 20,   7,  30,  46,   1,   0,   0,  11,   4,   0,   0,   3,   2,\n",
       "          2,   0,   0,   6,   2,   5,   1,   5,  48,   6,   0,   6,   6,\n",
       "          3,   0,   0,   0,   8,   2,   1]])"
      ]
     },
     "execution_count": 11,
     "metadata": {},
     "output_type": "execute_result"
    }
   ],
   "source": [
    "St.X[:5]"
   ]
  },
  {
   "cell_type": "code",
   "execution_count": null,
   "id": "60312801",
   "metadata": {},
   "outputs": [],
   "source": []
  }
 ],
 "metadata": {
  "kernelspec": {
   "display_name": "destvi",
   "language": "python",
   "name": "python3"
  },
  "language_info": {
   "codemirror_mode": {
    "name": "ipython",
    "version": 3
   },
   "file_extension": ".py",
   "mimetype": "text/x-python",
   "name": "python",
   "nbconvert_exporter": "python",
   "pygments_lexer": "ipython3",
   "version": "3.11.13"
  }
 },
 "nbformat": 4,
 "nbformat_minor": 5
}
